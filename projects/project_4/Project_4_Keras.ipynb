{
 "cells": [
  {
   "cell_type": "code",
   "execution_count": null,
   "metadata": {
    "scrolled": true
   },
   "outputs": [],
   "source": [
    "# !pip install tensorflow_addons"
   ]
  },
  {
   "cell_type": "code",
   "execution_count": 2,
   "metadata": {
    "scrolled": true
   },
   "outputs": [
    {
     "name": "stderr",
     "output_type": "stream",
     "text": [
      "Using TensorFlow backend.\n"
     ]
    }
   ],
   "source": [
    "import keras\n",
    "import tensorflow as tf\n",
    "import tensorflow_addons as tfa"
   ]
  },
  {
   "cell_type": "code",
   "execution_count": 3,
   "metadata": {
    "scrolled": true
   },
   "outputs": [],
   "source": [
    "import keras.applications\n",
    "from keras import backend as K\n",
    "from keras.models import Model\n",
    "from keras import optimizers\n",
    "import keras.layers as kl\n",
    "from keras.preprocessing.image import img_to_array\n",
    "from keras import optimizers"
   ]
  },
  {
   "cell_type": "code",
   "execution_count": 4,
   "metadata": {
    "scrolled": true
   },
   "outputs": [],
   "source": [
    "import sys\n",
    "import os\n",
    "import numpy as np\n",
    "import pandas as pd\n",
    "import cv2 \n",
    "from tqdm.notebook import tqdm"
   ]
  },
  {
   "cell_type": "code",
   "execution_count": 5,
   "metadata": {
    "scrolled": true
   },
   "outputs": [
    {
     "name": "stdout",
     "output_type": "stream",
     "text": [
      "2.3.1\n",
      "2.1.0\n",
      "[name: \"/device:CPU:0\"\n",
      "device_type: \"CPU\"\n",
      "memory_limit: 268435456\n",
      "locality {\n",
      "}\n",
      "incarnation: 9382905446399589943\n",
      ", name: \"/device:GPU:0\"\n",
      "device_type: \"GPU\"\n",
      "memory_limit: 3057333044\n",
      "locality {\n",
      "  bus_id: 1\n",
      "  links {\n",
      "  }\n",
      "}\n",
      "incarnation: 5870399571258633089\n",
      "physical_device_desc: \"device: 0, name: Quadro T2000, pci bus id: 0000:01:00.0, compute capability: 7.5\"\n",
      "]\n"
     ]
    }
   ],
   "source": [
    "print(keras.__version__)\n",
    "import tensorflow\n",
    "print(tensorflow.__version__)\n",
    "from tensorflow.python.client import device_lib\n",
    "print(device_lib.list_local_devices())"
   ]
  },
  {
   "cell_type": "code",
   "execution_count": 6,
   "metadata": {},
   "outputs": [],
   "source": [
    "T_G_WIDTH = 100\n",
    "T_G_HEIGHT = 100\n",
    "T_G_NUMCHANNELS = 3\n",
    "CHUNKSIZE = 16\n",
    "BATCHSIZE = 2048"
   ]
  },
  {
   "cell_type": "code",
   "execution_count": 7,
   "metadata": {
    "scrolled": true
   },
   "outputs": [
    {
     "data": {
      "text/html": [
       "<div>\n",
       "<style scoped>\n",
       "    .dataframe tbody tr th:only-of-type {\n",
       "        vertical-align: middle;\n",
       "    }\n",
       "\n",
       "    .dataframe tbody tr th {\n",
       "        vertical-align: top;\n",
       "    }\n",
       "\n",
       "    .dataframe thead th {\n",
       "        text-align: right;\n",
       "    }\n",
       "</style>\n",
       "<table border=\"1\" class=\"dataframe\">\n",
       "  <thead>\n",
       "    <tr style=\"text-align: right;\">\n",
       "      <th></th>\n",
       "      <th>A</th>\n",
       "      <th>B</th>\n",
       "      <th>C</th>\n",
       "    </tr>\n",
       "  </thead>\n",
       "  <tbody>\n",
       "    <tr>\n",
       "      <th>0</th>\n",
       "      <td>02461</td>\n",
       "      <td>03450</td>\n",
       "      <td>02678</td>\n",
       "    </tr>\n",
       "    <tr>\n",
       "      <th>1</th>\n",
       "      <td>02299</td>\n",
       "      <td>02499</td>\n",
       "      <td>04987</td>\n",
       "    </tr>\n",
       "    <tr>\n",
       "      <th>2</th>\n",
       "      <td>04663</td>\n",
       "      <td>01056</td>\n",
       "      <td>03029</td>\n",
       "    </tr>\n",
       "    <tr>\n",
       "      <th>3</th>\n",
       "      <td>04532</td>\n",
       "      <td>01186</td>\n",
       "      <td>01297</td>\n",
       "    </tr>\n",
       "    <tr>\n",
       "      <th>4</th>\n",
       "      <td>03454</td>\n",
       "      <td>03809</td>\n",
       "      <td>02204</td>\n",
       "    </tr>\n",
       "  </tbody>\n",
       "</table>\n",
       "</div>"
      ],
      "text/plain": [
       "       A      B      C\n",
       "0  02461  03450  02678\n",
       "1  02299  02499  04987\n",
       "2  04663  01056  03029\n",
       "3  04532  01186  01297\n",
       "4  03454  03809  02204"
      ]
     },
     "execution_count": 7,
     "metadata": {},
     "output_type": "execute_result"
    }
   ],
   "source": [
    "train_triplets = pd.read_csv(\"data/train_triplets.txt\", names=[\"A\", \"B\", \"C\"], sep=\" \")\n",
    "test_triplets = pd.read_csv(\"data/test_triplets.txt\", names=[\"A\", \"B\", \"C\"], sep=\" \")\n",
    "\n",
    "for column in [\"A\", \"B\", \"C\"]:\n",
    "    train_triplets[column] = train_triplets[column].astype(str)\n",
    "    test_triplets[column] = test_triplets[column].astype(str)\n",
    "    train_triplets[column] = train_triplets[column].apply(lambda x: x.zfill(5))\n",
    "    test_triplets[column] = test_triplets[column].apply(lambda x: x.zfill(5))\n",
    "train_triplets.head()"
   ]
  },
  {
   "cell_type": "code",
   "execution_count": 8,
   "metadata": {
    "scrolled": true
   },
   "outputs": [],
   "source": [
    "# split in test and training set, we take 0.3 of the dataframe and use it for testing and the rest for training\n",
    "train_triplets = train_triplets.sample(frac=1)\n",
    "n_test = 500\n",
    "test_images = train_triplets[:n_test]\n",
    "train_images = train_triplets[n_test:]"
   ]
  },
  {
   "cell_type": "code",
   "execution_count": 9,
   "metadata": {
    "scrolled": true
   },
   "outputs": [],
   "source": [
    "# def createCNNModel(emb_size):\n",
    "\n",
    "#     # Initialize a ResNet50_ImageNet Model\n",
    "# #     resnet_input = kl.Input(shape=(T_G_WIDTH,T_G_HEIGHT,T_G_NUMCHANNELS))\n",
    "#     model = tf.keras.Sequential([\n",
    "#         tf.keras.layers.Conv2D(filters=10, kernel_size=2, padding='same', activation='relu', input_shape=(T_G_HEIGHT,T_G_WIDTH,3)),\n",
    "#         tf.keras.layers.MaxPooling2D(pool_size=2),\n",
    "#         tf.keras.layers.Dropout(0.3),\n",
    "#         tf.keras.layers.Flatten(),\n",
    "#         tf.keras.layers.Dense(emb_size, activation=None), # No activation on final dense layer\n",
    "#         tf.keras.layers.Lambda(lambda x: tf.math.l2_normalize(x, axis=1)) # L2 normalize embeddings\n",
    "#     ])\n",
    "\n",
    "#     print(type(model))\n",
    "#     # triplet framework, shared weights\n",
    "#     input_shape=(T_G_WIDTH,T_G_HEIGHT,T_G_NUMCHANNELS)\n",
    "#     input_anchor = kl.Input(shape=input_shape, name='input_anchor')\n",
    "#     input_positive = kl.Input(shape=input_shape, name='input_pos')\n",
    "#     input_negative = kl.Input(shape=input_shape, name='input_neg')\n",
    "#     print(type(model))\n",
    "#     print(type(input_positive))\n",
    "#     model.compile(optimizer=tf.keras.optimizers.Adam(0.001),\n",
    "#     loss=tfa.losses.TripletSemiHardLoss())\n",
    "#     net_anchor = model(input_anchor)\n",
    "#     net_positive = model(input_positive)\n",
    "#     net_negative = model(input_negative)\n",
    "\n",
    "#     # The Lamda layer produces output using given function. Here its Euclidean distance.\n",
    "#     positive_dist = kl.Lambda(euclidean_distance, name='pos_dist')([net_anchor, net_positive])\n",
    "#     negative_dist = kl.Lambda(euclidean_distance, name='neg_dist')([net_anchor, net_negative])\n",
    "#     tertiary_dist = kl.Lambda(euclidean_distance, name='ter_dist')([net_positive, net_negative])\n",
    "\n",
    "#     # This lambda layer simply stacks outputs so both distances are available to the objective\n",
    "#     stacked_dists = kl.Lambda(lambda vects: K.stack(vects, axis=1), name='stacked_dists')([positive_dist, negative_dist, tertiary_dist])\n",
    "\n",
    "#     model = Model([input_anchor, input_positive, input_negative], stacked_dists, name='triple_siamese')\n",
    "\n",
    "#     v_optimizer = optimizers.Adam(lr=0.001)\n",
    "\n",
    "#     model.compile(optimizer=v_optimizer, loss=triplet_loss, metrics=[accuracy])\n",
    "\n",
    "#     return model\n",
    "# createCNNModel(100)"
   ]
  },
  {
   "cell_type": "code",
   "execution_count": 10,
   "metadata": {
    "scrolled": true
   },
   "outputs": [],
   "source": [
    "def createResNetModel(emb_size):\n",
    "\n",
    "    # Initialize a ResNet50_ImageNet Model\n",
    "    xception_input = kl.Input(shape=(T_G_WIDTH,T_G_HEIGHT,T_G_NUMCHANNELS))\n",
    "    xception_model = keras.applications.Xception(include_top=False,\n",
    "        weights=None,\n",
    "        input_tensor=xception_input,\n",
    "        input_shape=None,\n",
    "        pooling=max,\n",
    "    )\n",
    "\n",
    "    # New Layers over ResNet50\n",
    "    net = xception_model.output\n",
    "    net = kl.GlobalAveragePooling2D(name='gap')(net)\n",
    "    net = kl.Dropout(0.5)(net)\n",
    "    net = kl.Dense(emb_size,activation='relu',name='t_emb_1')(net)\n",
    "    net = kl.Lambda(lambda  x: K.l2_normalize(x,axis=1), name='t_emb_1_l2norm')(net)\n",
    "    \n",
    "    # model creation\n",
    "    base_model = Model(xception_model.input, net, name=\"base_model\")\n",
    "\n",
    "    # triplet framework, shared weights\n",
    "    input_shape=(T_G_WIDTH,T_G_HEIGHT,T_G_NUMCHANNELS)\n",
    "    input_anchor = kl.Input(shape=input_shape, name='input_anchor')\n",
    "    input_positive = kl.Input(shape=input_shape, name='input_pos')\n",
    "    input_negative = kl.Input(shape=input_shape, name='input_neg')\n",
    "    print(type(base_model))\n",
    "    print(type(input_positive))\n",
    "    net_anchor = base_model(input_anchor)\n",
    "    net_positive = base_model(input_positive)\n",
    "    net_negative = base_model(input_negative)\n",
    "\n",
    "    # The Lamda layer produces output using given function. Here its Euclidean distance.\n",
    "    positive_dist = kl.Lambda(euclidean_distance, name='pos_dist')([net_anchor, net_positive])\n",
    "    negative_dist = kl.Lambda(euclidean_distance, name='neg_dist')([net_anchor, net_negative])\n",
    "    tertiary_dist = kl.Lambda(euclidean_distance, name='ter_dist')([net_positive, net_negative])\n",
    "\n",
    "    # This lambda layer simply stacks outputs so both distances are available to the objective\n",
    "    stacked_dists = kl.Lambda(lambda vects: K.stack(vects, axis=1), name='stacked_dists')([positive_dist, negative_dist, tertiary_dist])\n",
    "\n",
    "    model = Model([input_anchor, input_positive, input_negative], stacked_dists, name='triple_siamese')\n",
    "\n",
    "    v_optimizer = optimizers.Adam(lr=0.001)\n",
    "\n",
    "    model.compile(optimizer=v_optimizer, loss=triplet_loss, metrics=[accuracy])\n",
    "\n",
    "    return model\n"
   ]
  },
  {
   "cell_type": "code",
   "execution_count": 11,
   "metadata": {
    "scrolled": true
   },
   "outputs": [],
   "source": [
    "def triplet_loss(y_true, y_pred):\n",
    "    margin = K.constant(1)\n",
    "    return K.mean(K.maximum(K.constant(0), K.square(y_pred[:,0,0]) - 0.5*(K.square(y_pred[:,1,0])+K.square(y_pred[:,2,0])) + margin))\n",
    "\n",
    "def accuracy(y_true, y_pred):\n",
    "    return K.mean(y_pred[:,0,0] < y_pred[:,1,0])\n",
    "\n",
    "def l2Norm(x):\n",
    "    return  K.l2_normalize(x, axis=-1)\n",
    "\n",
    "def euclidean_distance(vects):\n",
    "    x, y = vects\n",
    "    return K.sqrt(K.maximum(K.sum(K.square(x - y), axis=1, keepdims=True), K.epsilon()))"
   ]
  },
  {
   "cell_type": "code",
   "execution_count": 12,
   "metadata": {
    "scrolled": true
   },
   "outputs": [],
   "source": [
    "def t_read_image(loc):\n",
    "    t_image = cv2.imread(loc)\n",
    "    t_image = cv2.resize(t_image, (T_G_HEIGHT,T_G_WIDTH))\n",
    "    t_image = t_image.astype(\"float32\")\n",
    "    t_image = keras.applications.resnet50.preprocess_input(t_image, data_format='channels_last')\n",
    "\n",
    "    return t_image"
   ]
  },
  {
   "cell_type": "code",
   "execution_count": 13,
   "metadata": {
    "scrolled": true
   },
   "outputs": [],
   "source": [
    "# load file names\n",
    "for direc, subdir, file in os.walk(r\"data/food\"):\n",
    "    list_dir = file[:]"
   ]
  },
  {
   "cell_type": "code",
   "execution_count": 14,
   "metadata": {
    "scrolled": true
   },
   "outputs": [
    {
     "data": {
      "application/vnd.jupyter.widget-view+json": {
       "model_id": "b54b1f62a4de40d2b1869cfb26598928",
       "version_major": 2,
       "version_minor": 0
      },
      "text/plain": [
       "HBox(children=(FloatProgress(value=0.0, max=10000.0), HTML(value='')))"
      ]
     },
     "metadata": {},
     "output_type": "display_data"
    },
    {
     "name": "stdout",
     "output_type": "stream",
     "text": [
      "\n"
     ]
    }
   ],
   "source": [
    "# load the image\n",
    "img_array = {}\n",
    "for file in tqdm(list_dir):\n",
    "    img = t_read_image(os.path.join(\"data/food\", file))\n",
    "    img_array[file.split(\".jpg\")[0]]=img_to_array(img)"
   ]
  },
  {
   "cell_type": "code",
   "execution_count": 15,
   "metadata": {
    "scrolled": true
   },
   "outputs": [],
   "source": [
    "# create model\n",
    "# int is the embedding size \n",
    "# resnet_model = createResNetModel(300)"
   ]
  },
  {
   "cell_type": "code",
   "execution_count": 22,
   "metadata": {
    "scrolled": true
   },
   "outputs": [
    {
     "name": "stdout",
     "output_type": "stream",
     "text": [
      "Loaded model from disk\n"
     ]
    }
   ],
   "source": [
    "use_pretrained_model = True\n",
    "if use_pretrained_model == False:\n",
    "    cnn_model = createResNetModel(300)\n",
    "else:\n",
    "    json_file = open('model.json', 'r')\n",
    "    loaded_model_json = json_file.read()\n",
    "    json_file.close()\n",
    "    cnn_model = keras.models.model_from_json(loaded_model_json)\n",
    "    # load weights into new model\n",
    "    cnn_model.load_weights(\"Xception.h5\")\n",
    "    cnn_model.compile(optimizer=optimizers.Adam(lr=0.001), loss=triplet_loss, metrics=[accuracy])\n",
    "    print(\"Loaded model from disk\")"
   ]
  },
  {
   "cell_type": "code",
   "execution_count": null,
   "metadata": {
    "scrolled": true
   },
   "outputs": [],
   "source": []
  },
  {
   "cell_type": "code",
   "execution_count": 23,
   "metadata": {
    "scrolled": true
   },
   "outputs": [
    {
     "name": "stdout",
     "output_type": "stream",
     "text": [
      "Getting anchors train ...\n",
      "Getting positives train ...\n",
      "Getting negatives train ...\n"
     ]
    }
   ],
   "source": [
    "print(\"Getting anchors train ...\")\n",
    "anchors_train = [img_array[img] for img in np.array(train_images[\"A\"])]\n",
    "print(\"Getting positives train ...\")\n",
    "positives_train = [img_array[img] for img in np.array(train_images[\"B\"])]\n",
    "print(\"Getting negatives train ...\")\n",
    "negatives_train = [img_array[img] for img in np.array(train_images[\"C\"])]"
   ]
  },
  {
   "cell_type": "code",
   "execution_count": 24,
   "metadata": {
    "scrolled": true
   },
   "outputs": [
    {
     "name": "stdout",
     "output_type": "stream",
     "text": [
      "Getting anchors test ...\n",
      "Getting positives test ...\n",
      "Getting negatives test ...\n"
     ]
    }
   ],
   "source": [
    "print(\"Getting anchors test ...\")\n",
    "anchors_test = [img_array[img] for img in np.array(test_images[\"A\"])]\n",
    "print(\"Getting positives test ...\")\n",
    "positives_test = [img_array[img] for img in np.array(test_images[\"B\"])]\n",
    "print(\"Getting negatives test ...\")\n",
    "negatives_test = [img_array[img] for img in np.array(test_images[\"C\"])]"
   ]
  },
  {
   "cell_type": "code",
   "execution_count": 25,
   "metadata": {
    "scrolled": true
   },
   "outputs": [],
   "source": [
    "numepochs = 50\n",
    "total_t_ch = int(np.ceil(len(anchors_train) / float(CHUNKSIZE)))\n",
    "total_v_ch = int(np.ceil(len(anchors_test) / float(CHUNKSIZE)))"
   ]
  },
  {
   "cell_type": "code",
   "execution_count": null,
   "metadata": {
    "scrolled": true
   },
   "outputs": [
    {
     "name": "stdout",
     "output_type": "stream",
     "text": [
      "Epoch :0, train chunk 1/3689\n",
      "Epoch 1/1\n",
      "16/16 [==============================] - 23s 1s/step - loss: 0.6293 - accuracy: 0.8125\n",
      "Epoch :0, train chunk 2/3689\n",
      "Epoch 1/1\n",
      "16/16 [==============================] - 1s 40ms/step - loss: 0.7905 - accuracy: 0.5000\n",
      "Epoch :0, train chunk 3/3689\n",
      "Epoch 1/1\n",
      "16/16 [==============================] - 1s 41ms/step - loss: 0.4982 - accuracy: 0.8125\n",
      "Epoch :0, train chunk 4/3689\n",
      "Epoch 1/1\n",
      "16/16 [==============================] - 1s 41ms/step - loss: 0.7983 - accuracy: 0.6250\n",
      "Epoch :0, train chunk 5/3689\n",
      "Epoch 1/1\n",
      "16/16 [==============================] - 1s 41ms/step - loss: 0.8747 - accuracy: 0.5000\n",
      "Epoch :0, train chunk 6/3689\n",
      "Epoch 1/1\n",
      "16/16 [==============================] - 1s 40ms/step - loss: 0.8147 - accuracy: 0.5625\n",
      "Epoch :0, train chunk 7/3689\n",
      "Epoch 1/1\n",
      "16/16 [==============================] - 1s 41ms/step - loss: 0.8251 - accuracy: 0.6250\n",
      "Epoch :0, train chunk 8/3689\n",
      "Epoch 1/1\n",
      "16/16 [==============================] - 1s 41ms/step - loss: 0.6257 - accuracy: 0.6250\n",
      "Epoch :0, train chunk 9/3689\n",
      "Epoch 1/1\n",
      "16/16 [==============================] - 1s 40ms/step - loss: 0.6991 - accuracy: 0.6875\n",
      "Epoch :0, train chunk 10/3689\n",
      "Epoch 1/1\n",
      "16/16 [==============================] - 1s 41ms/step - loss: 0.9011 - accuracy: 0.4375\n",
      "Epoch :0, train chunk 11/3689\n",
      "Epoch 1/1\n",
      "16/16 [==============================] - 1s 41ms/step - loss: 0.7595 - accuracy: 0.6250\n",
      "Epoch :0, train chunk 12/3689\n",
      "Epoch 1/1\n",
      "16/16 [==============================] - 1s 41ms/step - loss: 0.7187 - accuracy: 0.6875\n",
      "Epoch :0, train chunk 13/3689\n",
      "Epoch 1/1\n",
      "16/16 [==============================] - 1s 41ms/step - loss: 0.6694 - accuracy: 0.8750\n",
      "Epoch :0, train chunk 14/3689\n",
      "Epoch 1/1\n",
      "16/16 [==============================] - 1s 41ms/step - loss: 0.5609 - accuracy: 0.7500\n",
      "Epoch :0, train chunk 15/3689\n",
      "Epoch 1/1\n",
      "16/16 [==============================] - 1s 40ms/step - loss: 0.7621 - accuracy: 0.8750\n",
      "Epoch :0, train chunk 16/3689\n",
      "Epoch 1/1\n",
      "16/16 [==============================] - 1s 41ms/step - loss: 0.9560 - accuracy: 0.5625\n",
      "Epoch :0, train chunk 17/3689\n",
      "Epoch 1/1\n",
      "16/16 [==============================] - 1s 41ms/step - loss: 0.8246 - accuracy: 0.6250\n",
      "Epoch :0, train chunk 18/3689\n",
      "Epoch 1/1\n",
      "16/16 [==============================] - 1s 41ms/step - loss: 0.6680 - accuracy: 0.6250\n",
      "Epoch :0, train chunk 19/3689\n",
      "Epoch 1/1\n",
      "16/16 [==============================] - 1s 41ms/step - loss: 1.0010 - accuracy: 0.5000\n",
      "Epoch :0, train chunk 20/3689\n",
      "Epoch 1/1\n",
      "16/16 [==============================] - 1s 41ms/step - loss: 0.6449 - accuracy: 0.8125\n",
      "Epoch :0, train chunk 21/3689\n",
      "Epoch 1/1\n",
      "16/16 [==============================] - 1s 40ms/step - loss: 0.8317 - accuracy: 0.5000\n",
      "Epoch :0, train chunk 22/3689\n",
      "Epoch 1/1\n",
      "16/16 [==============================] - 1s 41ms/step - loss: 0.6836 - accuracy: 0.6250\n",
      "Epoch :0, train chunk 23/3689\n",
      "Epoch 1/1\n",
      "16/16 [==============================] - 1s 41ms/step - loss: 0.9295 - accuracy: 0.5625\n",
      "Epoch :0, train chunk 24/3689\n",
      "Epoch 1/1\n",
      "16/16 [==============================] - 1s 41ms/step - loss: 0.6422 - accuracy: 0.6875\n",
      "Epoch :0, train chunk 25/3689\n",
      "Epoch 1/1\n",
      "16/16 [==============================] - 1s 40ms/step - loss: 0.5801 - accuracy: 0.5625\n",
      "Epoch :0, train chunk 26/3689\n",
      "Epoch 1/1\n",
      "16/16 [==============================] - 1s 41ms/step - loss: 0.4583 - accuracy: 0.8750\n",
      "Epoch :0, train chunk 27/3689\n",
      "Epoch 1/1\n",
      "16/16 [==============================] - 1s 41ms/step - loss: 0.9760 - accuracy: 0.5000\n",
      "Epoch :0, train chunk 28/3689\n",
      "Epoch 1/1\n",
      "16/16 [==============================] - 1s 41ms/step - loss: 1.0027 - accuracy: 0.5000\n",
      "Epoch :0, train chunk 29/3689\n",
      "Epoch 1/1\n",
      "16/16 [==============================] - 1s 41ms/step - loss: 0.6598 - accuracy: 0.6875\n",
      "Epoch :0, train chunk 30/3689\n",
      "Epoch 1/1\n",
      "16/16 [==============================] - 1s 41ms/step - loss: 0.8184 - accuracy: 0.5000\n",
      "Epoch :0, train chunk 31/3689\n",
      "Epoch 1/1\n",
      "16/16 [==============================] - 1s 42ms/step - loss: 0.9036 - accuracy: 0.6250\n",
      "Epoch :0, train chunk 32/3689\n",
      "Epoch 1/1\n",
      "16/16 [==============================] - 1s 41ms/step - loss: 0.6039 - accuracy: 0.8125\n",
      "Epoch :0, train chunk 33/3689\n",
      "Epoch 1/1\n",
      "16/16 [==============================] - 1s 41ms/step - loss: 0.7414 - accuracy: 0.5625\n",
      "Epoch :0, train chunk 34/3689\n",
      "Epoch 1/1\n",
      "16/16 [==============================] - 1s 41ms/step - loss: 0.8702 - accuracy: 0.6250\n",
      "Epoch :0, train chunk 35/3689\n",
      "Epoch 1/1\n",
      "16/16 [==============================] - 1s 41ms/step - loss: 0.6437 - accuracy: 0.8125\n",
      "Epoch :0, train chunk 36/3689\n",
      "Epoch 1/1\n",
      "16/16 [==============================] - 1s 41ms/step - loss: 0.6426 - accuracy: 0.6250\n",
      "Epoch :0, train chunk 37/3689\n",
      "Epoch 1/1\n",
      "16/16 [==============================] - 1s 41ms/step - loss: 0.7481 - accuracy: 0.6250\n",
      "Epoch :0, train chunk 38/3689\n",
      "Epoch 1/1\n",
      "16/16 [==============================] - 1s 41ms/step - loss: 0.8485 - accuracy: 0.6250\n",
      "Epoch :0, train chunk 39/3689\n",
      "Epoch 1/1\n",
      "16/16 [==============================] - 1s 41ms/step - loss: 0.7216 - accuracy: 0.7500\n",
      "Epoch :0, train chunk 40/3689\n",
      "Epoch 1/1\n",
      "16/16 [==============================] - 1s 41ms/step - loss: 0.8788 - accuracy: 0.5625\n",
      "Epoch :0, train chunk 41/3689\n",
      "Epoch 1/1\n",
      "16/16 [==============================] - 1s 41ms/step - loss: 0.7161 - accuracy: 0.6875\n",
      "Epoch :0, train chunk 42/3689\n",
      "Epoch 1/1\n",
      "16/16 [==============================] - 1s 41ms/step - loss: 0.6448 - accuracy: 0.7500\n",
      "Epoch :0, train chunk 43/3689\n",
      "Epoch 1/1\n",
      "16/16 [==============================] - 1s 41ms/step - loss: 0.6184 - accuracy: 0.8125\n",
      "Epoch :0, train chunk 44/3689\n",
      "Epoch 1/1\n",
      "16/16 [==============================] - 1s 41ms/step - loss: 0.8392 - accuracy: 0.6875\n",
      "Epoch :0, train chunk 45/3689\n",
      "Epoch 1/1\n",
      "16/16 [==============================] - 1s 41ms/step - loss: 0.5082 - accuracy: 0.6250\n",
      "Epoch :0, train chunk 46/3689\n",
      "Epoch 1/1\n",
      "16/16 [==============================] - 1s 41ms/step - loss: 0.6928 - accuracy: 0.5625\n",
      "Epoch :0, train chunk 47/3689\n",
      "Epoch 1/1\n",
      "16/16 [==============================] - 1s 41ms/step - loss: 0.7828 - accuracy: 0.7500\n",
      "Epoch :0, train chunk 48/3689\n",
      "Epoch 1/1\n",
      "16/16 [==============================] - 1s 41ms/step - loss: 1.0185 - accuracy: 0.4375\n",
      "Epoch :0, train chunk 49/3689\n",
      "Epoch 1/1\n",
      "16/16 [==============================] - 1s 41ms/step - loss: 0.6595 - accuracy: 0.8125\n",
      "Epoch :0, train chunk 50/3689\n",
      "Epoch 1/1\n",
      "16/16 [==============================] - 1s 41ms/step - loss: 0.5524 - accuracy: 0.6875\n",
      "Epoch :0, train chunk 51/3689\n",
      "Epoch 1/1\n",
      "16/16 [==============================] - 1s 41ms/step - loss: 0.7528 - accuracy: 0.6875\n",
      "Epoch :0, train chunk 52/3689\n",
      "Epoch 1/1\n",
      "16/16 [==============================] - 1s 41ms/step - loss: 0.8639 - accuracy: 0.8125\n",
      "Epoch :0, train chunk 53/3689\n",
      "Epoch 1/1\n",
      "16/16 [==============================] - 1s 41ms/step - loss: 0.9381 - accuracy: 0.5625\n",
      "Epoch :0, train chunk 54/3689\n",
      "Epoch 1/1\n",
      "16/16 [==============================] - 1s 42ms/step - loss: 0.8146 - accuracy: 0.5000\n",
      "Epoch :0, train chunk 55/3689\n",
      "Epoch 1/1\n",
      "16/16 [==============================] - 1s 41ms/step - loss: 0.8204 - accuracy: 0.6875\n",
      "Epoch :0, train chunk 56/3689\n",
      "Epoch 1/1\n",
      "16/16 [==============================] - 1s 41ms/step - loss: 0.7272 - accuracy: 0.6250\n",
      "Epoch :0, train chunk 57/3689\n",
      "Epoch 1/1\n",
      "16/16 [==============================] - 1s 41ms/step - loss: 0.6662 - accuracy: 0.6875\n",
      "Epoch :0, train chunk 58/3689\n",
      "Epoch 1/1\n",
      "16/16 [==============================] - 1s 41ms/step - loss: 0.7173 - accuracy: 0.6250\n",
      "Epoch :0, train chunk 59/3689\n",
      "Epoch 1/1\n",
      "16/16 [==============================] - 1s 41ms/step - loss: 0.7761 - accuracy: 0.7500\n",
      "Epoch :0, train chunk 60/3689\n",
      "Epoch 1/1\n",
      "16/16 [==============================] - 1s 41ms/step - loss: 0.9247 - accuracy: 0.8125\n",
      "Epoch :0, train chunk 61/3689\n",
      "Epoch 1/1\n",
      "16/16 [==============================] - 1s 41ms/step - loss: 0.5765 - accuracy: 0.8125\n",
      "Epoch :0, train chunk 62/3689\n",
      "Epoch 1/1\n",
      "16/16 [==============================] - 1s 42ms/step - loss: 0.7500 - accuracy: 0.6875\n",
      "Epoch :0, train chunk 63/3689\n",
      "Epoch 1/1\n",
      "16/16 [==============================] - 1s 42ms/step - loss: 0.7525 - accuracy: 0.8125\n",
      "Epoch :0, train chunk 64/3689\n",
      "Epoch 1/1\n",
      "16/16 [==============================] - 1s 41ms/step - loss: 1.1107 - accuracy: 0.4375\n",
      "Epoch :0, train chunk 65/3689\n",
      "Epoch 1/1\n",
      "16/16 [==============================] - 1s 41ms/step - loss: 0.9117 - accuracy: 0.3750\n",
      "Epoch :0, train chunk 66/3689\n",
      "Epoch 1/1\n",
      "16/16 [==============================] - 1s 41ms/step - loss: 1.0535 - accuracy: 0.5625\n",
      "Epoch :0, train chunk 67/3689\n",
      "Epoch 1/1\n",
      "16/16 [==============================] - 1s 41ms/step - loss: 0.5888 - accuracy: 0.6875\n",
      "Epoch :0, train chunk 68/3689\n",
      "Epoch 1/1\n",
      "16/16 [==============================] - 1s 41ms/step - loss: 0.7457 - accuracy: 0.7500\n",
      "Epoch :0, train chunk 69/3689\n",
      "Epoch 1/1\n",
      "16/16 [==============================] - 1s 41ms/step - loss: 0.9052 - accuracy: 0.6875\n",
      "Epoch :0, train chunk 70/3689\n",
      "Epoch 1/1\n",
      "16/16 [==============================] - 1s 41ms/step - loss: 0.7913 - accuracy: 0.7500\n",
      "Epoch :0, train chunk 71/3689\n",
      "Epoch 1/1\n",
      "16/16 [==============================] - 1s 41ms/step - loss: 1.0151 - accuracy: 0.5000\n",
      "Epoch :0, train chunk 72/3689\n",
      "Epoch 1/1\n",
      "16/16 [==============================] - 1s 41ms/step - loss: 0.8792 - accuracy: 0.5000\n",
      "Epoch :0, train chunk 73/3689\n",
      "Epoch 1/1\n",
      "16/16 [==============================] - 1s 41ms/step - loss: 0.4425 - accuracy: 0.8125\n",
      "Epoch :0, train chunk 74/3689\n",
      "Epoch 1/1\n"
     ]
    }
   ],
   "source": [
    "for e in range(0, numepochs):\n",
    "    for t in range(0, total_t_ch):\n",
    "        print (\"Epoch :{}, train chunk {}/{}\".format(e,t+1,total_t_ch))\n",
    "        anchors_t = anchors_train[t*CHUNKSIZE:(t+1)*CHUNKSIZE]\n",
    "        positives_t =positives_train[t*CHUNKSIZE:(t+1)*CHUNKSIZE]\n",
    "        negatives_t = negatives_train[t*CHUNKSIZE:(t+1)*CHUNKSIZE]\n",
    "        Y_train = np.random.randint(2, size=(1,2,len(anchors_t))).T\n",
    "        # This method does NOT use data augmentation\n",
    "        cnn_model.fit([anchors_t, positives_t, negatives_t], Y_train, epochs=1,  batch_size=BATCHSIZE)        "
   ]
  },
  {
   "cell_type": "code",
   "execution_count": null,
   "metadata": {
    "scrolled": true
   },
   "outputs": [],
   "source": [
    "# In case the validation images don't fit in memory, we load chunks from disk again. \n",
    "val_res = [0.0, 0.0]\n",
    "total_w = 0.0\n",
    "for v in range(0, total_v_ch):\n",
    "\n",
    "    print('Loading validation image lists ...')\n",
    "    print (\"Epoch :{}, train chunk {}/{}...\".format(e,v+1,total_v_ch))\n",
    "    anchors_v = anchors_test[v*CHUNKSIZE:(v+1)*CHUNKSIZE]\n",
    "    positives_v =positives_test[v*CHUNKSIZE:(v+1)*CHUNKSIZE]\n",
    "    negatives_v = negatives_test[v*CHUNKSIZE:(v+1)*CHUNKSIZE]\n",
    "    Y_val = np.random.randint(2, size=(1,2,len(anchors_v))).T\n",
    "\n",
    "    # Weight of current validation measurement. \n",
    "    # if loaded expected number of items, this will be 1.0, otherwise < 1.0, and > 0.0.\n",
    "    w = float(len(anchors_v)) / float(CHUNKSIZE)\n",
    "    total_w = total_w + w\n",
    "\n",
    "    curval = cnn_model.evaluate([anchors_v, positives_v, negatives_v], Y_val, batch_size=BATCHSIZE)\n",
    "    val_res[0] = val_res[0] + w*curval[0]\n",
    "    val_res[1] = val_res[1] + w*curval[1]\n",
    "#     print(pd.Series(np.argmax(val_res)).value_counts())\n",
    "val_res = [x / total_w for x in val_res]\n",
    "\n",
    "print('Validation Results: ', str(val_res))\n"
   ]
  },
  {
   "cell_type": "code",
   "execution_count": null,
   "metadata": {
    "scrolled": true
   },
   "outputs": [],
   "source": [
    "# serialize model to JSON\n",
    "model_json = cnn_model.to_json()\n",
    "with open(\"model.json\", \"w\") as json_file:\n",
    "    json_file.write(model_json)\n",
    "# serialize weights to HDF5\n",
    "cnn_model.save_weights(\"Xception.h5\")\n",
    "print(\"Saved model to disk\")\n",
    " "
   ]
  },
  {
   "cell_type": "code",
   "execution_count": null,
   "metadata": {},
   "outputs": [],
   "source": []
  },
  {
   "cell_type": "code",
   "execution_count": null,
   "metadata": {},
   "outputs": [],
   "source": [
    "# Now we want to generate the output 0, for each triplet of image on the validation to get the score"
   ]
  },
  {
   "cell_type": "code",
   "execution_count": null,
   "metadata": {},
   "outputs": [],
   "source": [
    "print(\"Getting anchors test ...\")\n",
    "anchors_val = [img_array[img] for img in np.array(test_triplets[\"A\"])]\n",
    "print(\"Getting first images ...\")\n",
    "first_val = [img_array[img] for img in np.array(test_triplets[\"B\"])]\n",
    "print(\"Getting second test ...\")\n",
    "second_val = [img_array[img] for img in np.array(test_triplets[\"C\"])]"
   ]
  },
  {
   "cell_type": "code",
   "execution_count": null,
   "metadata": {},
   "outputs": [],
   "source": [
    "total_v_ch = int(np.ceil(len(anchors_val) / float(CHUNKSIZE)))\n",
    "# for each chunk we have to compute the embedding and the distance to the closest neighbour.\n",
    "predictions_list = []\n",
    "errors = 0\n",
    "for v in tqdm(range(0, total_v_ch)):\n",
    "    anchors_val_chunk = anchors_val[v*CHUNKSIZE:(v+1)*CHUNKSIZE]\n",
    "    first_val_chunk =first_val[v*CHUNKSIZE:(v+1)*CHUNKSIZE]\n",
    "    second_val_chunk = second_val[v*CHUNKSIZE:(v+1)*CHUNKSIZE]\n",
    "    predictions = cnn_model.predict([anchors_val_chunk, first_val_chunk, second_val_chunk], batch_size=BATCHSIZE)\n",
    "    for distance in predictions:\n",
    "        predictions_list.append(np.argmin(np.array([np.abs(distance[2]-distance[0]), np.abs(distance[1]-distance[0])])))\n"
   ]
  },
  {
   "cell_type": "code",
   "execution_count": null,
   "metadata": {},
   "outputs": [],
   "source": [
    "predictions_array = np.asarray(predictions_list)"
   ]
  },
  {
   "cell_type": "code",
   "execution_count": null,
   "metadata": {},
   "outputs": [],
   "source": [
    "np.savetxt('predictions.txt', predictions_array, fmt='%d', delimiter='\\n')"
   ]
  },
  {
   "cell_type": "code",
   "execution_count": null,
   "metadata": {},
   "outputs": [],
   "source": []
  },
  {
   "cell_type": "code",
   "execution_count": null,
   "metadata": {},
   "outputs": [],
   "source": []
  }
 ],
 "metadata": {
  "kernelspec": {
   "display_name": "Python 3",
   "language": "python",
   "name": "python3"
  },
  "language_info": {
   "codemirror_mode": {
    "name": "ipython",
    "version": 3
   },
   "file_extension": ".py",
   "mimetype": "text/x-python",
   "name": "python",
   "nbconvert_exporter": "python",
   "pygments_lexer": "ipython3",
   "version": "3.7.6"
  }
 },
 "nbformat": 4,
 "nbformat_minor": 4
}
